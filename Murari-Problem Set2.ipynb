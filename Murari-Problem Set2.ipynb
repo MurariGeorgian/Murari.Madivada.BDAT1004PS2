{
 "cells": [
  {
   "cell_type": "markdown",
   "id": "cb7bc123",
   "metadata": {},
   "source": [
    "# Q 1:-"
   ]
  },
  {
   "cell_type": "markdown",
   "id": "40e83e2e",
   "metadata": {},
   "source": [
    "Consider the following Python module:\n",
    "a = 0\n",
    "def b():\n",
    "global a\n",
    "a = c(a)\n",
    "def c(a):\n",
    "return a + 2\n",
    "After importing the module into the interpreter, you execute:\n",
    ">>> b()\n",
    ">>> b()\n",
    ">>> b()\n",
    ">>> a\n",
    "?\n",
    "What value is displayed when the last expression (a) is evaluated? Explain your answer by indicating what happens in every executed statement."
   ]
  },
  {
   "cell_type": "code",
   "execution_count": 59,
   "id": "d8d1eedc",
   "metadata": {},
   "outputs": [],
   "source": [
    "a = 0\n",
    "def b():\n",
    "    global a\n",
    "    a = c(a)\n",
    "def c(a):\n",
    "    return a + 2\n",
    "\n"
   ]
  },
  {
   "cell_type": "code",
   "execution_count": 60,
   "id": "7a5c8bbb",
   "metadata": {},
   "outputs": [
    {
     "name": "stdout",
     "output_type": "stream",
     "text": [
      "6\n"
     ]
    }
   ],
   "source": [
    "b()\n",
    "b()\n",
    "b()\n",
    "print(a)"
   ]
  },
  {
   "cell_type": "markdown",
   "id": "fe2ab5a7",
   "metadata": {},
   "source": [
    "Analysis :- As the Variable an is all around the world called inside the capacity b. This progressions the worth of \"a\" outside the capacity. Initally the worth of \"a\" is 0, when work b is called , worth of an is allocated by calling capacity c with an as the variable. In the capacity c , a+2 is returned as an is 0, it returns 2 for first when calling b work for second time it return 4 when calling b work for third time it brings 6 back. Because of worldwide statement eventhough printing the variable \"a\" outside of capacity , the worth of \"a\" will be 6."
   ]
  },
  {
   "cell_type": "markdown",
   "id": "49c18e76",
   "metadata": {},
   "source": [
    "# Q 2:-"
   ]
  },
  {
   "cell_type": "markdown",
   "id": "0151fd97",
   "metadata": {},
   "source": [
    "Function fileLength(), given to you, takes the name of a file as input and returns the length of the file: >>> fileLength('midterm.py') 284 >>> fileLength('idterm.py') Traceback (most recent call last): File \"<pyshell#34>\", line 1, in <module> fileLength('idterm.py') File \"/Users/me/midterm.py\", line 3, in fileLength infile = open(filename) FileNotFoundError: [Errno 2] No such file or directory: 'idterm.py'\n",
    "As shown above, if the file cannot be found by the interpreter or if it cannot be read as a text file, an exception will be raised. Modify function fileLength() so that a friendly message is printed instead: >>> fileLength('midterm.py') 358 >>> fileLength('idterm.py') File idterm.py not found."
   ]
  },
  {
   "cell_type": "code",
   "execution_count": 61,
   "id": "ed26a683",
   "metadata": {},
   "outputs": [],
   "source": [
    "def filelength(File_name):\n",
    "    try:\n",
    "        file = open(File_name)\n",
    "        contents = file.read()\n",
    "        file.close()\n",
    "        print(len(contents))\n",
    "    except FileNotFoundError:\n",
    "        print(\"File {} not found.\".format(File_name))"
   ]
  },
  {
   "cell_type": "code",
   "execution_count": 62,
   "id": "2a1dbe93",
   "metadata": {},
   "outputs": [
    {
     "name": "stdout",
     "output_type": "stream",
     "text": [
      "63\n"
     ]
    }
   ],
   "source": [
    "filelength(\"Midterm.py\")"
   ]
  },
  {
   "cell_type": "code",
   "execution_count": 63,
   "id": "7793e0ee",
   "metadata": {},
   "outputs": [
    {
     "name": "stdout",
     "output_type": "stream",
     "text": [
      "File idterm.py not found.\n"
     ]
    }
   ],
   "source": [
    "filelength(\"idterm.py\")"
   ]
  },
  {
   "cell_type": "markdown",
   "id": "8a9d4601",
   "metadata": {},
   "source": [
    "# Q 3:-"
   ]
  },
  {
   "cell_type": "markdown",
   "id": "5073625c",
   "metadata": {},
   "source": [
    "Write a class named Marsupial that can be used as shown below: >>> m = Marsupial() >>> m.put_in_pouch('doll') >>> m.put_in_pouch('firetruck') >>> m.put_in_pouch('kitten') >>> m.pouch_contents() ['doll', 'firetruck', 'kitten']Now write a class named Kangaroo as a subclass of Marsupial that inherits all the attributes of Marsupial and also:\n",
    "a. extends the Marsupial __init__ constructor to take, as input, the coordinates x and y of the Kangaroo object,\n",
    "b. supports method jump that takes number values dx and dy as input and moves the kangaroo by dx units along the x-axis and by dy units along the y-axis, and\n",
    "c. overloads the __str__ operator so it behaves as shown below.\n",
    ">>> k = Kangaroo(0,0) >>> print(k) I am a Kangaroo located at coordinates (0,0) >>> k.put_in_pouch('doll') >>> k.put_in_pouch('firetruck') >>> k.put_in_pouch('kitten') >>> k.pouch_contents() ['doll', 'firetruck', 'kitten'] >>> k.jump(1,0) >>> k.jump(1,0) >>> k.jump(1,0) >>> print(k) I am a Kangaroo located at coordinates (3,0)"
   ]
  },
  {
   "cell_type": "code",
   "execution_count": 67,
   "id": "354ee288",
   "metadata": {},
   "outputs": [
    {
     "name": "stdout",
     "output_type": "stream",
     "text": [
      "['doll', 'firetruck', 'kitten']\n"
     ]
    }
   ],
   "source": [
    "class Marsupial:  \n",
    "    def __init__(must):\n",
    "        must.words = []\n",
    "    def put_in_pouch(must, words): \n",
    "        must.words.append(words) \n",
    "    def pouch_contents(must):  \n",
    "        print(must.words)\n",
    "m = Marsupial() \n",
    "m.put_in_pouch('doll')\n",
    "m.put_in_pouch('firetruck')\n",
    "m.put_in_pouch('kitten')\n",
    "m.pouch_contents()\n",
    "class Kangaroo(Marsupial):\n",
    "    def __init__(must,x,y):\n",
    "        Marsupial.__init__(must)\n",
    "        must.x = x\n",
    "        must.y = y\n",
    "        \n",
    "    def jump(must,x1,y1):  \n",
    "        must.x = must.x + x1\n",
    "        must.y = must.y + y1    \n",
    "    def __str__(must): \n",
    "        return \"I am a Kangaroo located at coordinates ({},{})\".format(must.x, must.y)\n",
    "   \n",
    "\n"
   ]
  },
  {
   "cell_type": "code",
   "execution_count": 68,
   "id": "b9851d27",
   "metadata": {},
   "outputs": [
    {
     "name": "stdout",
     "output_type": "stream",
     "text": [
      "I am a Kangaroo located at coordinates (0,0)\n"
     ]
    }
   ],
   "source": [
    "k = Kangaroo(0,0) \n",
    "print(k)"
   ]
  },
  {
   "cell_type": "code",
   "execution_count": 69,
   "id": "390b7143",
   "metadata": {},
   "outputs": [
    {
     "name": "stdout",
     "output_type": "stream",
     "text": [
      "['doll', 'firetruck', 'kitten']\n"
     ]
    }
   ],
   "source": [
    "k.put_in_pouch('doll') \n",
    "k.put_in_pouch('firetruck')\n",
    "k.put_in_pouch('kitten')\n",
    "k.pouch_contents() "
   ]
  },
  {
   "cell_type": "code",
   "execution_count": 70,
   "id": "ec146832",
   "metadata": {},
   "outputs": [
    {
     "name": "stdout",
     "output_type": "stream",
     "text": [
      "I am a Kangaroo located at coordinates (3,0)\n"
     ]
    }
   ],
   "source": [
    "k.jump(1,0) \n",
    "k.jump(1,0)\n",
    "k.jump(1,0)\n",
    "print(k)"
   ]
  },
  {
   "cell_type": "markdown",
   "id": "aaed48dd",
   "metadata": {},
   "source": [
    "# Q 4:-"
   ]
  },
  {
   "cell_type": "markdown",
   "id": "239968db",
   "metadata": {},
   "source": [
    "Write function collatz() that takes a positive integer x as input and prints the Collatz sequence starting at x. A Collatz sequence is obtained by repeatedly applying this rule to the previous number x in the sequence:\n",
    "x = { 𝑥/2 𝑖𝑓 𝑥 𝑖𝑠 𝑒𝑣𝑒𝑛3𝑥+1 𝑖𝑓 𝑥 𝑖𝑠 𝑜𝑑𝑑\n",
    "Your function should stop when the sequence gets to number 1. Your implementation must be recursive, without any loops.>>> collatz(1)\n",
    "1\n",
    ">>> collatz(10)\n",
    "10\n",
    "5\n",
    "16\n",
    "8\n",
    "4\n",
    "2\n",
    "1"
   ]
  },
  {
   "cell_type": "code",
   "execution_count": 74,
   "id": "1ac4f04a",
   "metadata": {},
   "outputs": [],
   "source": [
    "def collatz(x):\n",
    "    if(x==1):\n",
    "        print(int(x))\n",
    "    elif x%2==0:\n",
    "        print(int(x))\n",
    "        collatz(x/2)\n",
    "    else: \n",
    "        print(int(x))\n",
    "        collatz(3*x+1)\n",
    "\n"
   ]
  },
  {
   "cell_type": "code",
   "execution_count": 75,
   "id": "58347e06",
   "metadata": {},
   "outputs": [
    {
     "name": "stdout",
     "output_type": "stream",
     "text": [
      "1\n"
     ]
    }
   ],
   "source": [
    "collatz(1)"
   ]
  },
  {
   "cell_type": "code",
   "execution_count": 76,
   "id": "a85f2340",
   "metadata": {},
   "outputs": [
    {
     "name": "stdout",
     "output_type": "stream",
     "text": [
      "10\n",
      "5\n",
      "16\n",
      "8\n",
      "4\n",
      "2\n",
      "1\n"
     ]
    }
   ],
   "source": [
    "collatz(10)"
   ]
  },
  {
   "cell_type": "markdown",
   "id": "9bcede64",
   "metadata": {},
   "source": [
    "# Q 5:-"
   ]
  },
  {
   "cell_type": "markdown",
   "id": "81e12da6",
   "metadata": {},
   "source": [
    "Write a recursive method binary() that takes a non-negative integer n and prints the binary representation of integer n. >>> binary(0) 0 >>> binary(1) 1 >>> binary(3) 11 >>> binary(9) 1001"
   ]
  },
  {
   "cell_type": "code",
   "execution_count": 83,
   "id": "01d70912",
   "metadata": {},
   "outputs": [],
   "source": [
    "def binary(M):\n",
    "    if M>=1:\n",
    "        binary(M//2)\n",
    "        print(M%2,end = '')\n",
    "    else:\n",
    "        return 0\n",
    "    "
   ]
  },
  {
   "cell_type": "code",
   "execution_count": 84,
   "id": "86cbb60d",
   "metadata": {},
   "outputs": [
    {
     "data": {
      "text/plain": [
       "0"
      ]
     },
     "execution_count": 84,
     "metadata": {},
     "output_type": "execute_result"
    }
   ],
   "source": [
    "binary(0)"
   ]
  },
  {
   "cell_type": "code",
   "execution_count": 85,
   "id": "a0f55060",
   "metadata": {},
   "outputs": [
    {
     "name": "stdout",
     "output_type": "stream",
     "text": [
      "1"
     ]
    }
   ],
   "source": [
    "binary(1)"
   ]
  },
  {
   "cell_type": "code",
   "execution_count": 86,
   "id": "febdebe9",
   "metadata": {},
   "outputs": [
    {
     "name": "stdout",
     "output_type": "stream",
     "text": [
      "11"
     ]
    }
   ],
   "source": [
    "binary(3)"
   ]
  },
  {
   "cell_type": "code",
   "execution_count": 87,
   "id": "37aa583c",
   "metadata": {},
   "outputs": [
    {
     "name": "stdout",
     "output_type": "stream",
     "text": [
      "1001"
     ]
    }
   ],
   "source": [
    "binary(9)"
   ]
  },
  {
   "cell_type": "markdown",
   "id": "0087eb62",
   "metadata": {},
   "source": [
    "# Q 6:-"
   ]
  },
  {
   "cell_type": "markdown",
   "id": "dc34a0a7",
   "metadata": {},
   "source": [
    "Implement a class named HeadingParser that can be used to parse an HTML document, and retrieve and print all the headings in the document. You should implement your class as a subclass of HTMLParser, defined in Standard Library module html.parser. When fed a string containing HTML code, your class should print the headings, one per line and in the order in which they appear in the document. Each heading should be indented as follows: an h1 heading should haveindentation 0, and h2 heading should have indentation 1, etc. Test your implementation using w3c.html.\n",
    ">>> infile = open('w3c.html')\n",
    ">>> content = infile.read()\n",
    ">>> infile.close()\n",
    ">>> hp = HeadingParser()\n",
    ">>> hp.feed(content)\n",
    "W3C Mission\n",
    "Principles"
   ]
  },
  {
   "cell_type": "code",
   "execution_count": 88,
   "id": "b70bcecf",
   "metadata": {},
   "outputs": [
    {
     "name": "stdout",
     "output_type": "stream",
     "text": [
      "Hello World! - This is h1\n",
      "\t\n",
      "\n",
      "\tMy name is Murari - This is h2\n",
      "\t\n",
      "\n",
      "\tThis is h4\n",
      "\t"
     ]
    }
   ],
   "source": [
    "infile = open(\"w3c.html\")\n",
    "content = infile.read()\n",
    "infile.close()\n",
    "from html.parser import HTMLParser\n",
    "class parser(HTMLParser):\n",
    "    def handle_starttag(self, tag, attrs):\n",
    "        self.recording = 0 \n",
    "        self.data = []\n",
    "        if len(tag)== 2 and tag[0] == 'h':\n",
    "            self.recording = 1\n",
    "    def handle_data(self, data):\n",
    "        if self.recording:\n",
    "            print(data)\n",
    "            print(\"\\t\",end= \"\")\n",
    "p = parser()\n",
    "p.feed(content)"
   ]
  },
  {
   "cell_type": "markdown",
   "id": "1cc455cc",
   "metadata": {},
   "source": [
    "# Q 7:-"
   ]
  },
  {
   "cell_type": "markdown",
   "id": "262812ac",
   "metadata": {},
   "source": [
    "Implement recursive function webdir() that takes as input: a URL (as a string) and non-negative integers depth and indent. Your function should visit every web page reachable from the starting URL web page in depth clicks or less, and print each web page's URL. As shown below, indentation, specified by indent, should be used to indicate the depth of a URL. >>> webdir('http://reed.cs.depaul.edu/lperkovic/csc242/test1.html', 2, 0) http://reed.cs.depaul.edu/lperkovic/csc242/test1.html http://reed.cs.depaul.edu/lperkovic/csc242/test2.html http://reed.cs.depaul.edu/lperkovic/csc242/test4.html http://reed.cs.depaul.edu/lperkovic/csc242/test3.html http://reed.cs.depaul.edu/lperkovic/csc242/test4.html"
   ]
  },
  {
   "cell_type": "code",
   "execution_count": null,
   "id": "04f0e196",
   "metadata": {},
   "outputs": [],
   "source": []
  },
  {
   "cell_type": "markdown",
   "id": "a3d70df6",
   "metadata": {},
   "source": [
    "# Q 8:-"
   ]
  },
  {
   "cell_type": "markdown",
   "id": "a2c019bb",
   "metadata": {},
   "source": [
    "Write SQL queries on the below database table that return:\n",
    "a) All the temperature data.\n",
    "b) All the cities, but without repetition.\n",
    "c) All the records for India.\n",
    "d) All the Fall records.\n",
    "e) The city, country, and season for which the average rainfall is between 200 and 400 millimeters.\n",
    "f) The city and country for which the average Fall temperature is above 20 degrees, in increasing temperature order.\n",
    "g) The total annual rainfall for Cairo.\n",
    "h) The total rainfall for each season.\n",
    "City Country Season Temperature (C) Rainfall (mm)\n",
    "Mumbai\n",
    "India\n",
    "Winter\n",
    "24.8\n",
    "5.9\n",
    "Mumbai\n",
    "India\n",
    "Spring\n",
    "28.4\n",
    "16.2\n",
    "Mumbai\n",
    "India\n",
    "Summer\n",
    "27.9\n",
    "1549.4\n",
    "Mumbai\n",
    "India\n",
    "Fall\n",
    "27.6\n",
    "346.0\n",
    "London\n",
    "United Kingdom\n",
    "Winter\n",
    "4.2\n",
    "207.7\n",
    "London\n",
    "United Kingdom\n",
    "Spring\n",
    "8.3\n",
    "169.6\n",
    "London\n",
    "United Kingdom\n",
    "Summer\n",
    "15.7\n",
    "157.0\n",
    "London\n",
    "United Kingdom\n",
    "Fall\n",
    "10.4\n",
    "218.5\n",
    "Cairo\n",
    "Egypt\n",
    "Winter\n",
    "13.6\n",
    "16.5\n",
    "Cairo\n",
    "Egypt\n",
    "Spring\n",
    "20.7\n",
    "6.5\n",
    "Cairo\n",
    "Egypt\n",
    "Summer\n",
    "27.7\n",
    "0.1\n",
    "Cairo\n",
    "Egypt\n",
    "Fall\n",
    "22.2\n",
    "4.5"
   ]
  },
  {
   "cell_type": "code",
   "execution_count": null,
   "id": "159e40f9",
   "metadata": {},
   "outputs": [],
   "source": [
    "import sqlite3\n",
    "con = sqlite3.connect('climate_db')\n",
    "cur = con.cursor()\n",
    "cur.execute(\"CREATE TABLE climate (City text, Country text, Season text, Temperature C dec, Rainfall mm dec)\")\n",
    "cur.execute(\"INSERT INTO climate VALUES ('Mumbai', 'India', 'Winter', 24.8, 5.9)\")\n",
    "cur.execute(\"INSERT INTO climate VALUES ('Mumbai', 'India', 'Spring', 28.4, 16.2)\")\n",
    "cur.execute(\"INSERT INTO climate VALUES ('Mumbai', 'India', 'Summer', 27.9, 1549.4)\")\n",
    "cur.execute(\"INSERT INTO climate VALUES ('Mumbai', 'India', 'Fall', 27.6, 346.0)\")\n",
    "cur.execute(\"INSERT INTO climate VALUES ('London', 'United Kingdom', 'Winter', 4.2, 207.7)\")\n",
    "cur.execute(\"INSERT INTO climate VALUES ('London', 'United Kingdom', 'Spring', 8.3, 169.6)\")\n",
    "cur.execute(\"INSERT INTO climate VALUES ('London', 'United Kingdom', 'Summer', 15.7, 157.0)\")\n",
    "cur.execute(\"INSERT INTO climate VALUES ('London', 'United Kingdom', 'Fall', 10.4, 218.5)\")\n",
    "cur.execute(\"INSERT INTO climate VALUES ('Cairo', 'Egypt', 'Winter', 13.6, 16.5)\")\n",
    "cur.execute(\"INSERT INTO climate VALUES ('Cairo', 'Egypt', 'Spring', 20.7, 6.5)\")\n",
    "cur.execute(\"INSERT INTO climate VALUES ('Cairo', 'Egypt', 'Summer', 27.7, 0.1)\")\n",
    "cur.execute(\"INSERT INTO climate VALUES ('Cairo', 'Egypt', 'Fall', 22.2, 4.5)\")\n",
    "con.commit()\n",
    "con.close()"
   ]
  },
  {
   "cell_type": "code",
   "execution_count": 92,
   "id": "3ef19a2f",
   "metadata": {},
   "outputs": [],
   "source": [
    "import sqlite3\n",
    "con = sqlite3.connect('climate_db')\n",
    "cur = con.cursor()"
   ]
  },
  {
   "cell_type": "code",
   "execution_count": 93,
   "id": "c57aea68",
   "metadata": {},
   "outputs": [
    {
     "name": "stdout",
     "output_type": "stream",
     "text": [
      "(24.8,)\n",
      "(28.4,)\n",
      "(27.9,)\n",
      "(27.6,)\n",
      "(4.2,)\n",
      "(8.3,)\n",
      "(15.7,)\n",
      "(10.4,)\n",
      "(13.6,)\n",
      "(20.7,)\n",
      "(27.7,)\n",
      "(22.2,)\n"
     ]
    }
   ],
   "source": [
    "cur.execute('SELECT Temperature FROM climate')\n",
    "for record in cur:\n",
    "    print(record)"
   ]
  },
  {
   "cell_type": "code",
   "execution_count": 94,
   "id": "0b2dff2e",
   "metadata": {},
   "outputs": [
    {
     "name": "stdout",
     "output_type": "stream",
     "text": [
      "('Mumbai',)\n",
      "('London',)\n",
      "('Cairo',)\n"
     ]
    }
   ],
   "source": [
    "cur.execute('SELECT DISTINCT City FROM climate')\n",
    "for record in cur:\n",
    "    print(record)"
   ]
  },
  {
   "cell_type": "code",
   "execution_count": 95,
   "id": "596f606e",
   "metadata": {},
   "outputs": [
    {
     "name": "stdout",
     "output_type": "stream",
     "text": [
      "('Mumbai', 'India', 'Winter', 24.8, 5.9)\n",
      "('Mumbai', 'India', 'Spring', 28.4, 16.2)\n",
      "('Mumbai', 'India', 'Summer', 27.9, 1549.4)\n",
      "('Mumbai', 'India', 'Fall', 27.6, 346)\n"
     ]
    }
   ],
   "source": [
    "cur.execute('SELECT * FROM climate where Country=\"India\"')\n",
    "for record in cur:\n",
    "    print(record)"
   ]
  },
  {
   "cell_type": "code",
   "execution_count": 96,
   "id": "0cf2f042",
   "metadata": {},
   "outputs": [
    {
     "name": "stdout",
     "output_type": "stream",
     "text": [
      "('Mumbai', 'India', 'Fall', 27.6, 346)\n",
      "('London', 'United Kingdom', 'Fall', 10.4, 218.5)\n",
      "('Cairo', 'Egypt', 'Fall', 22.2, 4.5)\n"
     ]
    }
   ],
   "source": [
    "cur.execute('SELECT * FROM climate where Season=\"Fall\"')\n",
    "for record in cur:\n",
    "    print(record)"
   ]
  },
  {
   "cell_type": "code",
   "execution_count": 97,
   "id": "b7b88589",
   "metadata": {},
   "outputs": [
    {
     "name": "stdout",
     "output_type": "stream",
     "text": [
      "('Mumbai', 'India', 'Fall')\n",
      "('London', 'United Kingdom', 'Winter')\n",
      "('London', 'United Kingdom', 'Fall')\n"
     ]
    }
   ],
   "source": [
    "cur.execute('SELECT City,Country,Season FROM climate where (rainfall>200) AND (rainfall<400)')\n",
    "for record in cur:\n",
    "    print(record)"
   ]
  },
  {
   "cell_type": "code",
   "execution_count": 98,
   "id": "02e7de34",
   "metadata": {},
   "outputs": [
    {
     "name": "stdout",
     "output_type": "stream",
     "text": [
      "('Mumbai', 'India')\n",
      "('Cairo', 'Egypt')\n"
     ]
    }
   ],
   "source": [
    "cur.execute('SELECT City,Country FROM climate where (Season =\"Fall\") AND (temperature>20) ORDER BY Temperature DESC')\n",
    "for record in cur:\n",
    "    print(record)"
   ]
  },
  {
   "cell_type": "code",
   "execution_count": 99,
   "id": "fd908110",
   "metadata": {},
   "outputs": [
    {
     "name": "stdout",
     "output_type": "stream",
     "text": [
      "[(27.6,)]\n"
     ]
    }
   ],
   "source": [
    "cur.execute('SELECT SUM(Rainfall) FROM climate where City=\"Cairo\"')\n",
    "Annual_rainfall_in_Cairo=cur.fetchall()\n",
    "print(Annual_rainfall_in_Cairo)"
   ]
  },
  {
   "cell_type": "code",
   "execution_count": 100,
   "id": "c9edb842",
   "metadata": {},
   "outputs": [
    {
     "name": "stdout",
     "output_type": "stream",
     "text": [
      "(569.0, 'Fall')\n",
      "(192.29999999999998, 'Spring')\n",
      "(1706.5, 'Summer')\n",
      "(230.1, 'Winter')\n"
     ]
    }
   ],
   "source": [
    "cur.execute('SELECT SUM(Rainfall),Season FROM climate GROUP BY Season')\n",
    "for record in cur:\n",
    "    print(record)"
   ]
  },
  {
   "cell_type": "markdown",
   "id": "cb751c89",
   "metadata": {},
   "source": [
    "# Q 9:-"
   ]
  },
  {
   "cell_type": "markdown",
   "id": "e19c914c",
   "metadata": {},
   "source": [
    "Suppose list words is defined as follows:\n",
    ">>> words = ['The', 'quick', 'brown', 'fox', 'jumps', 'over', 'the', 'lazy', 'dog']\n",
    "Write list comprehension expressions that use list words and generate the following lists:\n",
    "a) ['THE', 'QUICK', 'BROWN', 'FOX', 'JUMPS', 'OVER', 'THE', 'LAZY', 'DOG']\n",
    "b) ['the', 'quick', 'brown', 'fox', 'jumps', 'over', 'the', 'lazy', 'dog']\n",
    "c) [3, 5, 5, 3, 5, 4, 3, 4, 3] (the list of lengths of words in list words).\n",
    "d) [['THE', 'the', 3], ['QUICK', 'quick', 5], ['BROWN', 'brown', 5], ['FOX', 'fox', 3], ['JUMPS', 'jumps', 5], ['OVER', 'over', 4], ['THE', 'the', 3], ['LAZY', 'lazy', 4], ['DOG', 'dog', 3]] (the list containing a list for every word of list words, where each list contains the word in uppercase and lowercase and the length of the word.)\n",
    "e) ['The', 'quick', 'brown', 'fox', 'jumps', 'over', 'the', 'lazy', 'dog'] (the list of words in list words containing 4 or more characters.)"
   ]
  },
  {
   "cell_type": "code",
   "execution_count": 101,
   "id": "5434e3af",
   "metadata": {},
   "outputs": [
    {
     "name": "stdout",
     "output_type": "stream",
     "text": [
      "['THE', 'QUICK', 'BROWN', 'FOX', 'JUMPS', 'OVER', 'THE', 'LAZY', 'DOG']\n",
      "['the', 'quick', 'brown', 'fox', 'jumps', 'over', 'the', 'lazy', 'dog']\n",
      "[3, 5, 5, 3, 5, 4, 3, 4, 3]\n",
      "[('THE', 'the', 3), ('QUICK', 'quick', 5), ('BROWN', 'brown', 5), ('FOX', 'fox', 3), ('JUMPS', 'jumps', 5), ('OVER', 'over', 4), ('THE', 'the', 3), ('LAZY', 'lazy', 4), ('DOG', 'dog', 3)]\n",
      "['quick', 'brown', 'jumps', 'over', 'lazy']\n"
     ]
    }
   ],
   "source": [
    "words = ['The', 'quick', 'brown', 'fox', 'jumps', 'over','the', 'lazy', 'dog']\n",
    "\n",
    "upper_case = [i.upper() for i in words]\n",
    "print(upper_case)\n",
    "lower_case = [i.lower() for i in words]\n",
    "print(lower_case)\n",
    "word_length = [len(i) for i in words]\n",
    "print(word_length)\n",
    "zipped = [i for i in zip(upper_case, lower_case, word_length)]\n",
    "print(zipped)\n",
    "len_greater_4 = [i for i in words if len(i) >= 4]\n",
    "print(len_greater_4)"
   ]
  }
 ],
 "metadata": {
  "kernelspec": {
   "display_name": "Python 3",
   "language": "python",
   "name": "python3"
  },
  "language_info": {
   "codemirror_mode": {
    "name": "ipython",
    "version": 3
   },
   "file_extension": ".py",
   "mimetype": "text/x-python",
   "name": "python",
   "nbconvert_exporter": "python",
   "pygments_lexer": "ipython3",
   "version": "3.7.1"
  }
 },
 "nbformat": 4,
 "nbformat_minor": 5
}
